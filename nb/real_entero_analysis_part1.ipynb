{
 "cells": [
  {
   "cell_type": "code",
   "execution_count": 1,
   "metadata": {},
   "outputs": [],
   "source": [
    "%load_ext autoreload\n",
    "%autoreload 2\n",
    "%matplotlib inline\n",
    "from IPython.display import display\n",
    "import sys\n",
    "import os\n",
    "import logging\n",
    "\n",
    "import numpy as np\n",
    "import pandas as pd\n",
    "import seaborn as sns\n",
    "import matplotlib.pyplot as plt\n",
    "\n",
    "logger = logging.getLogger(\"feat_viz\")\n",
    "logging.basicConfig(format='[%(name)s %(levelname)s] %(message)s', level=logging.INFO)\n",
    "sys.path.insert(0,'../src')\n",
    "import matplotlib as mpl\n",
    "mpl.rcParams['figure.dpi']= 100"
   ]
  },
  {
   "cell_type": "code",
   "execution_count": 2,
   "metadata": {},
   "outputs": [],
   "source": [
    "from intestine_info import load_processed_enterocyte_data, load_original_entero_zonation\n",
    "from intestine_info import get_intestine_rna_lm_genes\n",
    "from io_utils import load_all_pipeline_results, load_data_from_file\n",
    "from plot_utils import plot_corr_mtx, plot_venn\n",
    "from scrna_utils import get_gene_df\n",
    "from general_utils import rank_and_bin"
   ]
  },
  {
   "cell_type": "code",
   "execution_count": 16,
   "metadata": {},
   "outputs": [],
   "source": [
    "res_dir = \"/Users/jjzhu/Google Drive/_GLISS/data/analysis_060719\"\n",
    "dat_dir = \"/Users/jjzhu/Google Drive/_GLISS/data/intestine2k\"\n",
    "fdir = '/Users/jjzhu/Google Drive/_GLISS/spatial_subplots/'\n",
    "RDIR = os.path.join(res_dir, \"entero_data\", \"results_our_lm\")"
   ]
  },
  {
   "cell_type": "markdown",
   "metadata": {},
   "source": [
    "## Load the SGE LM gene results"
   ]
  },
  {
   "cell_type": "code",
   "execution_count": 6,
   "metadata": {},
   "outputs": [
    {
     "name": "stderr",
     "output_type": "stream",
     "text": [
      "[feat_viz INFO] Loaded 453 genes\n",
      "[feat_viz INFO] Kept 243 genes with max expr > 0.001 \n",
      "[feat_viz INFO] Kept 45 high zone genes with geom avg > 3.5 \n",
      "[feat_viz INFO] Kept 64 low zone genes with geom avg < 2.5 \n",
      "[feat_viz INFO] Saved figure to: /Users/jjzhu/Google Drive/_GLISS/spatial_subplots/intestine_lm_venn.pdf\n"
     ]
    },
    {
     "data": {
      "image/png": "[encoded data removed]",
      "text/plain": [
       "<Figure size 180x180 with 1 Axes>"
      ]
     },
     "metadata": {},
     "output_type": "display_data"
    }
   ],
   "source": [
    "lm_set = {}\n",
    "fn = os.path.join(RDIR, 'our_LM_genes.pkl')\n",
    "lm_set['ours'] = load_data_from_file(fn, 'pkl')\n",
    "lm_genes = get_intestine_rna_lm_genes(dat_dir)\n",
    "lm_set['.'] = set(lm_genes[\"high\"] + lm_genes[\"low\"])\n",
    "fn = fdir + 'intestine_lm_venn.pdf'\n",
    "fig, ax = plt.subplots(1, 1, figsize=(1.8, 1.8))\n",
    "plot_venn(lm_set, ['.', 'ours'], ax=ax, fn=fn)\n",
    "plt.show()"
   ]
  },
  {
   "cell_type": "code",
   "execution_count": 7,
   "metadata": {},
   "outputs": [
    {
     "name": "stdout",
     "output_type": "stream",
     "text": [
      ". : 10.85%\n",
      "ours : 34.83%\n"
     ]
    }
   ],
   "source": [
    "init_genes = 1005 # see setup_real_data_entero_part0.ipynb\n",
    "for method in ['.', 'ours']:\n",
    "    print('{} : {:.2f}%'.format(method, len(lm_set[method])/init_genes * 100))"
   ]
  },
  {
   "cell_type": "markdown",
   "metadata": {},
   "source": [
    "### Load the ground-truth and evaluate the methods"
   ]
  },
  {
   "cell_type": "code",
   "execution_count": 8,
   "metadata": {},
   "outputs": [
    {
     "name": "stderr",
     "output_type": "stream",
     "text": [
      "[feat_viz INFO] {'Crypt': 0, 'V1': 1, 'V2': 2, 'V3': 3, 'V4': 4, 'V5': 5, 'V6': 6}\n",
      "[feat_viz WARNING] /Users/jjzhu/Google Drive/_GLISS/data/analysis_060719/entero_data/results_our_lm/result_pc_oracle.plk does not exist\n",
      "[feat_viz WARNING] /Users/jjzhu/Google Drive/_GLISS/data/analysis_060719/entero_data/results_our_lm/result_graph_oracle.plk does not exist\n",
      "[feat_viz WARNING] /Users/jjzhu/Google Drive/_GLISS/data/analysis_060719/entero_data/results_our_lm/result_hybrid_oracle.plk does not exist\n"
     ]
    },
    {
     "name": "stdout",
     "output_type": "stream",
     "text": [
      "Matrix dimension: (1383, 9656)\n"
     ]
    },
    {
     "data": {
      "text/plain": [
       "dict_keys(['pc_vanilla', 'graph_vanilla', 'hybrid_vanilla'])"
      ]
     },
     "metadata": {},
     "output_type": "display_data"
    },
    {
     "data": {
      "text/plain": [
       "dict_keys(['unsup_graph', 'unsup_pc'])"
      ]
     },
     "metadata": {},
     "output_type": "display_data"
    }
   ],
   "source": [
    "zone_vals = load_original_entero_zonation(dat_dir, just_vals=True)\n",
    "obs_df, var_df, mtx = load_processed_enterocyte_data(res_dir)\n",
    "RDIR = os.path.join(res_dir, \"entero_data\", \"results_our_lm\")\n",
    "pipe_res, all_lams = load_all_pipeline_results(RDIR)\n",
    "print('Matrix dimension: {}'.format(mtx.shape))\n",
    "display(pipe_res.keys())\n",
    "display(all_lams.keys())"
   ]
  },
  {
   "cell_type": "code",
   "execution_count": 9,
   "metadata": {},
   "outputs": [
    {
     "data": {
      "text/html": [
       "<div>\n",
       "<style scoped>\n",
       "    .dataframe tbody tr th:only-of-type {\n",
       "        vertical-align: middle;\n",
       "    }\n",
       "\n",
       "    .dataframe tbody tr th {\n",
       "        vertical-align: top;\n",
       "    }\n",
       "\n",
       "    .dataframe thead th {\n",
       "        text-align: right;\n",
       "    }\n",
       "</style>\n",
       "<table border=\"1\" class=\"dataframe\">\n",
       "  <thead>\n",
       "    <tr style=\"text-align: right;\">\n",
       "      <th></th>\n",
       "      <th>n_genes</th>\n",
       "      <th>n_counts</th>\n",
       "      <th>cell_id</th>\n",
       "    </tr>\n",
       "  </thead>\n",
       "  <tbody>\n",
       "    <tr>\n",
       "      <th>0</th>\n",
       "      <td>2033</td>\n",
       "      <td>6751.0</td>\n",
       "      <td>AAACCTGGTAAGTTCC</td>\n",
       "    </tr>\n",
       "    <tr>\n",
       "      <th>1</th>\n",
       "      <td>1135</td>\n",
       "      <td>3754.0</td>\n",
       "      <td>AAACGGGCACCAACCG</td>\n",
       "    </tr>\n",
       "    <tr>\n",
       "      <th>2</th>\n",
       "      <td>2559</td>\n",
       "      <td>9224.0</td>\n",
       "      <td>AAACGGGTCACTGGGC</td>\n",
       "    </tr>\n",
       "    <tr>\n",
       "      <th>3</th>\n",
       "      <td>1706</td>\n",
       "      <td>5144.0</td>\n",
       "      <td>AAAGATGGTGGACGAT</td>\n",
       "    </tr>\n",
       "    <tr>\n",
       "      <th>4</th>\n",
       "      <td>3079</td>\n",
       "      <td>11475.0</td>\n",
       "      <td>AAAGATGGTTCGGGCT</td>\n",
       "    </tr>\n",
       "  </tbody>\n",
       "</table>\n",
       "</div>"
      ],
      "text/plain": [
       "   n_genes  n_counts           cell_id\n",
       "0     2033    6751.0  AAACCTGGTAAGTTCC\n",
       "1     1135    3754.0  AAACGGGCACCAACCG\n",
       "2     2559    9224.0  AAACGGGTCACTGGGC\n",
       "3     1706    5144.0  AAAGATGGTGGACGAT\n",
       "4     3079   11475.0  AAAGATGGTTCGGGCT"
      ]
     },
     "execution_count": 9,
     "metadata": {},
     "output_type": "execute_result"
    }
   ],
   "source": [
    "obs_df.head()"
   ]
  },
  {
   "cell_type": "markdown",
   "metadata": {},
   "source": [
    "### Compare all lambdas if needed"
   ]
  },
  {
   "cell_type": "code",
   "execution_count": 11,
   "metadata": {},
   "outputs": [
    {
     "name": "stderr",
     "output_type": "stream",
     "text": [
      "[feat_viz INFO] Loaded 453 genes\n",
      "[feat_viz INFO] Kept 243 genes with max expr > 0.001 \n",
      "[feat_viz INFO] Kept 45 high zone genes with geom avg > 3.5 \n",
      "[feat_viz INFO] Kept 64 low zone genes with geom avg < 2.5 \n",
      "[feat_viz INFO] Number of original lm genes: 109\n",
      "[feat_viz INFO] Number of intersecting lm genes: 97\n"
     ]
    }
   ],
   "source": [
    "lm_genes = get_intestine_rna_lm_genes(dat_dir)\n",
    "lm_genes = lm_genes[\"high\"] + lm_genes[\"low\"]\n",
    "logger.info(\"Number of original lm genes: {}\".format(len(lm_genes)))\n",
    "lm_genes = list(set(lm_genes).intersection(set(var_df[\"gene_ids\"])))\n",
    "lm_genes = sorted(lm_genes)\n",
    "logger.info(\"Number of intersecting lm genes: {}\".format(len(lm_genes)))"
   ]
  },
  {
   "cell_type": "code",
   "execution_count": 13,
   "metadata": {},
   "outputs": [
    {
     "name": "stdout",
     "output_type": "stream",
     "text": [
      "palantir\n",
      "paga\n"
     ]
    },
    {
     "data": {
      "image/png": "[encoded data removed]",
      "text/plain": [
       "<Figure size 500x500 with 2 Axes>"
      ]
     },
     "metadata": {},
     "output_type": "display_data"
    }
   ],
   "source": [
    "all_lams[\"smFISH\"] = zone_vals\n",
    "mopts = [\"graph\", \"pc\", \"hybrid\"]\n",
    "mtypes = [\"vanilla\"]\n",
    "for method in mopts:\n",
    "    for mtype in mtypes:\n",
    "        key = \"{}_{}\".format(method, mtype)\n",
    "        result = pipe_res[key] \n",
    "        for lam_t in [\"lam_init\", \"lam_update\"]:\n",
    "            name = \"{}_{}\".format(key, lam_t)\n",
    "            all_lams[name] = result[lam_t]\n",
    "# add lambdas from ti methods\n",
    "mdir = '/Users/jjzhu/Google Drive/_GLISS/data/analysis_060719/entero_data/ti_methods'\n",
    "names = ['palantir', 'paga']\n",
    "for name in names:\n",
    "    fn = os.path.join(mdir, '{}_obs_df.csv'.format(name))\n",
    "    df = pd.read_csv(fn)\n",
    "    df = df.set_index('cell_id')\n",
    "    df = df.loc[obs_df['cell_id']]\n",
    "    print(name)\n",
    "    all_lams[name] = df['pseudotime']\n",
    "\n",
    "lam_df = pd.DataFrame(all_lams)\n",
    "# manually switch signs\n",
    "switch_signs = [# \"graph_vanilla_lam_init\", \n",
    "                # \"graph_vanilla_lam_update\",\n",
    "                \"pc_vanilla_lam_update\",\n",
    "                \"unsup_graph\",\n",
    "                \"unsup_pc\"]\n",
    "for var in switch_signs:\n",
    "    lam_df[var] = - lam_df[var]\n",
    "# select and rename here\n",
    "\n",
    "methods = [\"smFISH\", \n",
    "           \"graph_vanilla_lam_init\", \n",
    "#            \"pc_vanilla_lam_init\", \n",
    "           \"graph_vanilla_lam_update\", \n",
    "#            \"pc_vanilla_lam_update\",\n",
    "#            \"unsup_graph\",\n",
    "#            \"unsup_pc\",\n",
    "           \"palantir\", \n",
    "           \"paga\"]\n",
    "select_vars = {\n",
    "    \"smFISH\": r\"$\\pi^\\mathtt{B}$\",\n",
    "#     \"graph_vanilla_lam_init\": r\"$\\pi^\\mathtt{G}$\",\n",
    "#     \"pc_vanilla_lam_init\": r\"$\\pi^\\mathtt{P}$\",\n",
    "    \"graph_vanilla_lam_update\": r\"$\\xi^\\mathtt{G}$\",\n",
    "#     \"pc_vanilla_lam_update\": r\"$\\xi^\\mathtt{P}$\",\n",
    "#     \"unsup_graph\": r\"$\\omega^\\mathtt{G}$\",\n",
    "#     \"unsup_pc\": r\"$\\omega^\\mathtt{P}$\",\n",
    "    \"palantir\": r\"$\\omega^\\mathtt{1}$\",\n",
    "    \"paga\" : r\"$\\omega^\\mathtt{2}$\",\n",
    "}\n",
    "sub_df = lam_df[list(select_vars.keys())]\n",
    "sub_df = sub_df.rename(index=str, columns=select_vars)\n",
    "sub_df.head()\n",
    "\n",
    "plot_corr_mtx(sub_df, vmin=0.9)"
   ]
  },
  {
   "cell_type": "code",
   "execution_count": 14,
   "metadata": {},
   "outputs": [
    {
     "name": "stderr",
     "output_type": "stream",
     "text": [
      "[feat_viz INFO] Saved figure to: /Users/jjzhu/Google Drive/_GLISS/spatial_subplots/intestine_lambda_heatmap.pdf\n"
     ]
    },
    {
     "data": {
      "image/png": "[encoded data removed]",
      "text/plain": [
       "<Figure size 400x400 with 2 Axes>"
      ]
     },
     "metadata": {},
     "output_type": "display_data"
    }
   ],
   "source": [
    "fn = fdir + 'intestine_lambda_heatmap.pdf'\n",
    "show_cbar = True\n",
    "vmin=0.92\n",
    "vmax=1\n",
    "\n",
    "corr_df = sub_df.corr('spearman')\n",
    "mask = np.zeros_like(corr_df)\n",
    "mask[np.triu_indices_from(mask, k=1)] = True\n",
    "\n",
    "fig, ax = plt.subplots(1, 1, figsize=(4, 4))\n",
    "sns.heatmap(corr_df, annot=True, fmt=\".2f\", square=True, ax=ax,\n",
    "                cbar=show_cbar, vmin=vmin, vmax=vmax, mask=mask,\n",
    "                cbar_kws = dict(shrink=0.7,use_gridspec=False,location=\"bottom\"))\n",
    "plt.savefig(fn, bbox_inches='tight', transparent=True) \n",
    "logger.info(\"Saved figure to: {}\".format(fn))\n",
    "plt.show()"
   ]
  },
  {
   "cell_type": "code",
   "execution_count": 17,
   "metadata": {},
   "outputs": [
    {
     "name": "stdout",
     "output_type": "stream",
     "text": [
      "Number of genes: 9656\n",
      "original : 7946 (82.2908%)\n"
     ]
    }
   ],
   "source": [
    "# load the sets from table\n",
    "fn = os.path.join(dat_dir, \"table_D_zonation_reconstruction.tsv\")\n",
    "tab_d_df = pd.read_table(fn, delimiter=\"\\t\").dropna()\n",
    "tab_d_df = tab_d_df.set_index('Gene name')\n",
    "tab_d_df = tab_d_df.reindex(var_df.gene_ids)\n",
    "n_genes = var_df.shape[0]\n",
    "assert tab_d_df.shape[0] == n_genes, 'number of gene mismatch'\n",
    "print('Number of genes: {}'.format(n_genes))\n",
    "threshold = 0.05\n",
    "sub_d_df = tab_d_df.loc[tab_d_df['qval'] < 0.05]\n",
    "n_sel_genes = sub_d_df.shape[0]\n",
    "print('original : {} ({:.4f}%)'.format(n_sel_genes, n_sel_genes/n_genes*100))"
   ]
  },
  {
   "cell_type": "code",
   "execution_count": 18,
   "metadata": {},
   "outputs": [
    {
     "data": {
      "text/html": [
       "<div>\n",
       "<style scoped>\n",
       "    .dataframe tbody tr th:only-of-type {\n",
       "        vertical-align: middle;\n",
       "    }\n",
       "\n",
       "    .dataframe tbody tr th {\n",
       "        vertical-align: top;\n",
       "    }\n",
       "\n",
       "    .dataframe thead th {\n",
       "        text-align: right;\n",
       "    }\n",
       "</style>\n",
       "<table border=\"1\" class=\"dataframe\">\n",
       "  <thead>\n",
       "    <tr style=\"text-align: right;\">\n",
       "      <th></th>\n",
       "      <th>gene_name</th>\n",
       "      <th>indin</th>\n",
       "      <th>clust_idx</th>\n",
       "    </tr>\n",
       "  </thead>\n",
       "  <tbody>\n",
       "    <tr>\n",
       "      <th>0</th>\n",
       "      <td>Mrpl15</td>\n",
       "      <td>8</td>\n",
       "      <td>1</td>\n",
       "    </tr>\n",
       "    <tr>\n",
       "      <th>1</th>\n",
       "      <td>Lypla1</td>\n",
       "      <td>9</td>\n",
       "      <td>3</td>\n",
       "    </tr>\n",
       "    <tr>\n",
       "      <th>2</th>\n",
       "      <td>Arfgef1</td>\n",
       "      <td>40</td>\n",
       "      <td>3</td>\n",
       "    </tr>\n",
       "    <tr>\n",
       "      <th>3</th>\n",
       "      <td>Tram1</td>\n",
       "      <td>52</td>\n",
       "      <td>1</td>\n",
       "    </tr>\n",
       "    <tr>\n",
       "      <th>4</th>\n",
       "      <td>Rpl7</td>\n",
       "      <td>63</td>\n",
       "      <td>4</td>\n",
       "    </tr>\n",
       "  </tbody>\n",
       "</table>\n",
       "</div>"
      ],
      "text/plain": [
       "  gene_name  indin  clust_idx\n",
       "0    Mrpl15      8          1\n",
       "1    Lypla1      9          3\n",
       "2   Arfgef1     40          3\n",
       "3     Tram1     52          1\n",
       "4      Rpl7     63          4"
      ]
     },
     "execution_count": 18,
     "metadata": {},
     "output_type": "execute_result"
    }
   ],
   "source": [
    "# (alternatively) load the genes used for k-means clustering\n",
    "fn =  os.path.join(dat_dir, \"extracted\", \"kmeans_meta.csv\")\n",
    "kdf = pd.read_csv(fn)\n",
    "kdf.head()"
   ]
  },
  {
   "cell_type": "code",
   "execution_count": 19,
   "metadata": {},
   "outputs": [],
   "source": [
    "# look at the intersection between the three methods\n",
    "gset = {}\n",
    "gset['original'] = set(sub_d_df.index)\n",
    "gset['cluster'] = set(kdf.gene_name)"
   ]
  },
  {
   "cell_type": "code",
   "execution_count": 20,
   "metadata": {},
   "outputs": [
    {
     "data": {
      "text/html": [
       "<div>\n",
       "<style scoped>\n",
       "    .dataframe tbody tr th:only-of-type {\n",
       "        vertical-align: middle;\n",
       "    }\n",
       "\n",
       "    .dataframe tbody tr th {\n",
       "        vertical-align: top;\n",
       "    }\n",
       "\n",
       "    .dataframe thead th {\n",
       "        text-align: right;\n",
       "    }\n",
       "</style>\n",
       "<table border=\"1\" class=\"dataframe\">\n",
       "  <thead>\n",
       "    <tr style=\"text-align: right;\">\n",
       "      <th></th>\n",
       "      <th>gene_ids</th>\n",
       "      <th>n_cells</th>\n",
       "      <th>mean</th>\n",
       "      <th>std</th>\n",
       "      <th>npc</th>\n",
       "    </tr>\n",
       "  </thead>\n",
       "  <tbody>\n",
       "    <tr>\n",
       "      <th>0</th>\n",
       "      <td>Mrpl15</td>\n",
       "      <td>530</td>\n",
       "      <td>0.386412</td>\n",
       "      <td>0.530710</td>\n",
       "      <td>530</td>\n",
       "    </tr>\n",
       "    <tr>\n",
       "      <th>1</th>\n",
       "      <td>Lypla1</td>\n",
       "      <td>1045</td>\n",
       "      <td>0.999767</td>\n",
       "      <td>0.698513</td>\n",
       "      <td>1045</td>\n",
       "    </tr>\n",
       "    <tr>\n",
       "      <th>2</th>\n",
       "      <td>Tcea1</td>\n",
       "      <td>367</td>\n",
       "      <td>0.225788</td>\n",
       "      <td>0.401705</td>\n",
       "      <td>367</td>\n",
       "    </tr>\n",
       "    <tr>\n",
       "      <th>3</th>\n",
       "      <td>Atp6v1h</td>\n",
       "      <td>171</td>\n",
       "      <td>0.101006</td>\n",
       "      <td>0.292252</td>\n",
       "      <td>171</td>\n",
       "    </tr>\n",
       "    <tr>\n",
       "      <th>4</th>\n",
       "      <td>Rb1cc1</td>\n",
       "      <td>340</td>\n",
       "      <td>0.220587</td>\n",
       "      <td>0.425791</td>\n",
       "      <td>340</td>\n",
       "    </tr>\n",
       "  </tbody>\n",
       "</table>\n",
       "</div>"
      ],
      "text/plain": [
       "  gene_ids  n_cells      mean       std   npc\n",
       "0   Mrpl15      530  0.386412  0.530710   530\n",
       "1   Lypla1     1045  0.999767  0.698513  1045\n",
       "2    Tcea1      367  0.225788  0.401705   367\n",
       "3  Atp6v1h      171  0.101006  0.292252   171\n",
       "4   Rb1cc1      340  0.220587  0.425791   340"
      ]
     },
     "execution_count": 20,
     "metadata": {},
     "output_type": "execute_result"
    }
   ],
   "source": [
    "var_df.head()"
   ]
  },
  {
   "cell_type": "code",
   "execution_count": 21,
   "metadata": {},
   "outputs": [
    {
     "name": "stderr",
     "output_type": "stream",
     "text": [
      "[feat_viz INFO] pc_vanilla threshold: 0.0398\n",
      "[feat_viz INFO] graph_vanilla threshold: 0.0375\n",
      "[feat_viz INFO] hybrid_vanilla threshold: 0.0269\n",
      "[feat_viz INFO] Saved figure to: /Users/jjzhu/Google Drive/_GLISS/spatial_subplots/intestine_sv_venn.pdf\n"
     ]
    },
    {
     "data": {
      "image/png": "[encoded data removed]",
      "text/plain": [
       "<Figure size 250x250 with 1 Axes>"
      ]
     },
     "metadata": {},
     "output_type": "display_data"
    },
    {
     "name": "stdout",
     "output_type": "stream",
     "text": [
      "original: 7946/9656 (82.2908)%\n",
      "cluster: 2118/9656 (21.9345)%\n",
      "pc_vanilla: 7722/9656 (79.9710)%\n",
      "graph_vanilla: 7274/9656 (75.3314)%\n"
     ]
    }
   ],
   "source": [
    "from main_methods import setup_cmp_df\n",
    "from plot_utils import plot_venn\n",
    "\n",
    "pval_df, pval_thres, cmp_sets, mets = setup_cmp_df(pipe_res)\n",
    "for i, met in enumerate(mets[:2]):\n",
    "    gset[met] = set(var_df['gene_ids'][cmp_sets[i]])\n",
    "\n",
    "# fig, ax = plt.subplots(1, 1, figsize=(2.5, 2.5))\n",
    "# plot_venn(gset, ['original', 'graph_vanilla'], ax=ax)\n",
    "# plt.show()\n",
    "\n",
    "fn = fdir + 'intestine_sv_venn.pdf'\n",
    "fig, ax = plt.subplots(1, 1, figsize=(2.5, 2.5))\n",
    "plot_venn(gset, ['original', 'graph_vanilla'], ax=ax, fn=fn)\n",
    "plt.show()\n",
    "\n",
    "for met in gset:\n",
    "    n_sel_genes = len(gset[met])\n",
    "    print('{}: {}/{} ({:.4f})%'.format(met, n_sel_genes, n_genes, n_sel_genes/n_genes*100))"
   ]
  },
  {
   "cell_type": "code",
   "execution_count": 22,
   "metadata": {},
   "outputs": [
    {
     "name": "stdout",
     "output_type": "stream",
     "text": [
      "Orig: 21.934548467274233%\n",
      "Ours: 19.884009942004973%\n"
     ]
    }
   ],
   "source": [
    "# See setup_real_data_entero_part1_feat_clust.ipynb to obtain the numbers below\n",
    "print('Orig: {}%'.format((312+1806) / n_genes * 100))\n",
    "print('Ours: {}%'.format((114+1806) / n_genes * 100))"
   ]
  },
  {
   "cell_type": "code",
   "execution_count": 23,
   "metadata": {},
   "outputs": [
    {
     "data": {
      "image/png": "[encoded data removed]",
      "text/plain": [
       "<Figure size 400x400 with 1 Axes>"
      ]
     },
     "metadata": {},
     "output_type": "display_data"
    },
    {
     "data": {
      "image/png": "[encoded data removed]",
      "text/plain": [
       "<Figure size 400x400 with 1 Axes>"
      ]
     },
     "metadata": {},
     "output_type": "display_data"
    },
    {
     "data": {
      "image/png": "[encoded data removed]",
      "text/plain": [
       "<Figure size 400x400 with 1 Axes>"
      ]
     },
     "metadata": {},
     "output_type": "display_data"
    },
    {
     "data": {
      "image/png": "[encoded data removed]",
      "text/plain": [
       "<Figure size 400x400 with 1 Axes>"
      ]
     },
     "metadata": {},
     "output_type": "display_data"
    }
   ],
   "source": [
    "plot_venn(gset, ['original', 'graph_vanilla', 'cluster'])\n",
    "plot_venn(gset, ['original', 'cluster'])\n",
    "plot_venn(gset, ['graph_vanilla', 'cluster'])\n",
    "plot_venn(gset, ['original', 'graph_vanilla', 'pc_vanilla'])"
   ]
  },
  {
   "cell_type": "code",
   "execution_count": 26,
   "metadata": {},
   "outputs": [
    {
     "name": "stderr",
     "output_type": "stream",
     "text": [
      "[feat_viz INFO] pc_vanilla threshold: 0.0398\n",
      "[feat_viz INFO] graph_vanilla threshold: 0.0375\n"
     ]
    },
    {
     "data": {
      "image/png": "[encoded data removed]",
      "text/plain": [
       "<Figure size 400x400 with 1 Axes>"
      ]
     },
     "metadata": {},
     "output_type": "display_data"
    }
   ],
   "source": [
    "from plot_utils import plot_and_compare_results\n",
    "def compare_methods(res, mlist):\n",
    "    cmp_methods = {}\n",
    "    for m in mlist:\n",
    "        assert m in res, \"{} not found\".format(m)\n",
    "        cmp_methods[m] = res[m]\n",
    "    plot_and_compare_results(cmp_methods)\n",
    "compare_methods(pipe_res, [\"pc_vanilla\", \"graph_vanilla\"])"
   ]
  },
  {
   "cell_type": "code",
   "execution_count": 27,
   "metadata": {},
   "outputs": [
    {
     "data": {
      "text/html": [
       "<div>\n",
       "<style scoped>\n",
       "    .dataframe tbody tr th:only-of-type {\n",
       "        vertical-align: middle;\n",
       "    }\n",
       "\n",
       "    .dataframe tbody tr th {\n",
       "        vertical-align: top;\n",
       "    }\n",
       "\n",
       "    .dataframe thead th {\n",
       "        text-align: right;\n",
       "    }\n",
       "</style>\n",
       "<table border=\"1\" class=\"dataframe\">\n",
       "  <thead>\n",
       "    <tr style=\"text-align: right;\">\n",
       "      <th></th>\n",
       "      <th>gene_ids</th>\n",
       "      <th>n_cells</th>\n",
       "      <th>mean</th>\n",
       "      <th>std</th>\n",
       "      <th>npc</th>\n",
       "    </tr>\n",
       "  </thead>\n",
       "  <tbody>\n",
       "    <tr>\n",
       "      <th>0</th>\n",
       "      <td>Mrpl15</td>\n",
       "      <td>530</td>\n",
       "      <td>0.386412</td>\n",
       "      <td>0.530710</td>\n",
       "      <td>530</td>\n",
       "    </tr>\n",
       "    <tr>\n",
       "      <th>1</th>\n",
       "      <td>Lypla1</td>\n",
       "      <td>1045</td>\n",
       "      <td>0.999767</td>\n",
       "      <td>0.698513</td>\n",
       "      <td>1045</td>\n",
       "    </tr>\n",
       "    <tr>\n",
       "      <th>2</th>\n",
       "      <td>Tcea1</td>\n",
       "      <td>367</td>\n",
       "      <td>0.225788</td>\n",
       "      <td>0.401705</td>\n",
       "      <td>367</td>\n",
       "    </tr>\n",
       "    <tr>\n",
       "      <th>3</th>\n",
       "      <td>Atp6v1h</td>\n",
       "      <td>171</td>\n",
       "      <td>0.101006</td>\n",
       "      <td>0.292252</td>\n",
       "      <td>171</td>\n",
       "    </tr>\n",
       "    <tr>\n",
       "      <th>4</th>\n",
       "      <td>Rb1cc1</td>\n",
       "      <td>340</td>\n",
       "      <td>0.220587</td>\n",
       "      <td>0.425791</td>\n",
       "      <td>340</td>\n",
       "    </tr>\n",
       "  </tbody>\n",
       "</table>\n",
       "</div>"
      ],
      "text/plain": [
       "  gene_ids  n_cells      mean       std   npc\n",
       "0   Mrpl15      530  0.386412  0.530710   530\n",
       "1   Lypla1     1045  0.999767  0.698513  1045\n",
       "2    Tcea1      367  0.225788  0.401705   367\n",
       "3  Atp6v1h      171  0.101006  0.292252   171\n",
       "4   Rb1cc1      340  0.220587  0.425791   340"
      ]
     },
     "execution_count": 27,
     "metadata": {},
     "output_type": "execute_result"
    }
   ],
   "source": [
    "var_df.head()"
   ]
  },
  {
   "cell_type": "code",
   "execution_count": 28,
   "metadata": {},
   "outputs": [
    {
     "data": {
      "text/plain": [
       "(9656, 3)"
      ]
     },
     "execution_count": 28,
     "metadata": {},
     "output_type": "execute_result"
    }
   ],
   "source": [
    "pval_df.shape"
   ]
  },
  {
   "cell_type": "raw",
   "metadata": {},
   "source": [
    "pipe_res"
   ]
  },
  {
   "cell_type": "markdown",
   "metadata": {},
   "source": [
    "### Search for p-values of known genes"
   ]
  },
  {
   "cell_type": "code",
   "execution_count": 29,
   "metadata": {},
   "outputs": [
    {
     "name": "stderr",
     "output_type": "stream",
     "text": [
      "[feat_viz INFO] pc_vanilla threshold: 0.0398\n",
      "[feat_viz INFO] graph_vanilla threshold: 0.0375\n",
      "[feat_viz INFO] pc_vanilla threshold: 0.0398\n",
      "[feat_viz INFO] graph_vanilla threshold: 0.0375\n",
      "[feat_viz INFO] Set selection: (1260, 8)\n",
      "[feat_viz INFO] Set selection: (812, 8)\n"
     ]
    },
    {
     "data": {
      "text/html": [
       "<div>\n",
       "<style scoped>\n",
       "    .dataframe tbody tr th:only-of-type {\n",
       "        vertical-align: middle;\n",
       "    }\n",
       "\n",
       "    .dataframe tbody tr th {\n",
       "        vertical-align: top;\n",
       "    }\n",
       "\n",
       "    .dataframe thead th {\n",
       "        text-align: right;\n",
       "    }\n",
       "</style>\n",
       "<table border=\"1\" class=\"dataframe\">\n",
       "  <thead>\n",
       "    <tr style=\"text-align: right;\">\n",
       "      <th></th>\n",
       "      <th>n_cells</th>\n",
       "      <th>mean</th>\n",
       "      <th>std</th>\n",
       "      <th>npc</th>\n",
       "      <th>pc_vanilla</th>\n",
       "      <th>graph_vanilla</th>\n",
       "      <th>exclusive_rejection</th>\n",
       "    </tr>\n",
       "    <tr>\n",
       "      <th>gene_ids</th>\n",
       "      <th></th>\n",
       "      <th></th>\n",
       "      <th></th>\n",
       "      <th></th>\n",
       "      <th></th>\n",
       "      <th></th>\n",
       "      <th></th>\n",
       "    </tr>\n",
       "  </thead>\n",
       "  <tbody>\n",
       "    <tr>\n",
       "      <th>Tor3a</th>\n",
       "      <td>38</td>\n",
       "      <td>0.018172</td>\n",
       "      <td>0.113434</td>\n",
       "      <td>38</td>\n",
       "      <td>0.0001</td>\n",
       "      <td>0.960004</td>\n",
       "      <td>pc_vanilla</td>\n",
       "    </tr>\n",
       "    <tr>\n",
       "      <th>Dtnbp1</th>\n",
       "      <td>144</td>\n",
       "      <td>0.080599</td>\n",
       "      <td>0.248849</td>\n",
       "      <td>144</td>\n",
       "      <td>0.0001</td>\n",
       "      <td>0.838816</td>\n",
       "      <td>pc_vanilla</td>\n",
       "    </tr>\n",
       "    <tr>\n",
       "      <th>Slc25a26</th>\n",
       "      <td>42</td>\n",
       "      <td>0.020044</td>\n",
       "      <td>0.117497</td>\n",
       "      <td>42</td>\n",
       "      <td>0.0001</td>\n",
       "      <td>0.784022</td>\n",
       "      <td>pc_vanilla</td>\n",
       "    </tr>\n",
       "    <tr>\n",
       "      <th>1810044D09Rik</th>\n",
       "      <td>79</td>\n",
       "      <td>0.040336</td>\n",
       "      <td>0.170306</td>\n",
       "      <td>79</td>\n",
       "      <td>0.0001</td>\n",
       "      <td>0.766423</td>\n",
       "      <td>pc_vanilla</td>\n",
       "    </tr>\n",
       "    <tr>\n",
       "      <th>Isoc2a</th>\n",
       "      <td>46</td>\n",
       "      <td>0.022463</td>\n",
       "      <td>0.126048</td>\n",
       "      <td>46</td>\n",
       "      <td>0.0001</td>\n",
       "      <td>0.755424</td>\n",
       "      <td>pc_vanilla</td>\n",
       "    </tr>\n",
       "  </tbody>\n",
       "</table>\n",
       "</div>"
      ],
      "text/plain": [
       "               n_cells      mean       std  npc  pc_vanilla  graph_vanilla  \\\n",
       "gene_ids                                                                     \n",
       "Tor3a               38  0.018172  0.113434   38      0.0001       0.960004   \n",
       "Dtnbp1             144  0.080599  0.248849  144      0.0001       0.838816   \n",
       "Slc25a26            42  0.020044  0.117497   42      0.0001       0.784022   \n",
       "1810044D09Rik       79  0.040336  0.170306   79      0.0001       0.766423   \n",
       "Isoc2a              46  0.022463  0.126048   46      0.0001       0.755424   \n",
       "\n",
       "              exclusive_rejection  \n",
       "gene_ids                           \n",
       "Tor3a                  pc_vanilla  \n",
       "Dtnbp1                 pc_vanilla  \n",
       "Slc25a26               pc_vanilla  \n",
       "1810044D09Rik          pc_vanilla  \n",
       "Isoc2a                 pc_vanilla  "
      ]
     },
     "metadata": {},
     "output_type": "display_data"
    }
   ],
   "source": [
    "from main_methods import setup_cmp_df, get_unique_rejection_df\n",
    "from plot_utils import create_color_map, plot_full_pattern\n",
    "from matplotlib.ticker import FormatStrFormatter\n",
    "from plot_utils import update_boxplot_cols\n",
    "from plot_utils import plot_gene_expr_comp\n",
    "from scrna_utils import get_gene_df\n",
    "\n",
    "cmp_methods = {key: pipe_res[key] for key in [\"pc_vanilla\", \"graph_vanilla\"]}\n",
    "pval_df, pval_thres, cmp_sets, mets = setup_cmp_df(cmp_methods)\n",
    "pval_df = pd.concat([var_df.reset_index(drop=True), pval_df], axis=1)\n",
    "report_genes = [\"Hamp\", \"Hamp2\", \"Igfbp2\", \"Mup3\", \"Cyp8b1\"]\n",
    "unique_dict, unique_df = get_unique_rejection_df(cmp_methods, var_df)\n",
    "unique_glist = {}\n",
    "top_k = 10\n",
    "for key in cmp_methods:\n",
    "    unique_glist[key] = list(unique_dict[key].index[:top_k])\n",
    "#     display(unique_dict[key].head(top_k))\n",
    "display(unique_df.head())"
   ]
  },
  {
   "cell_type": "code",
   "execution_count": 31,
   "metadata": {},
   "outputs": [
    {
     "name": "stderr",
     "output_type": "stream",
     "text": [
      "[feat_viz INFO] Number of original smFISH genes: 23\n",
      "[feat_viz INFO] Number of intersecting smFISH genes: 22\n",
      "[feat_viz INFO] Cdh1 only rejected by graph_vanilla\n"
     ]
    },
    {
     "data": {
      "text/html": [
       "<div>\n",
       "<style scoped>\n",
       "    .dataframe tbody tr th:only-of-type {\n",
       "        vertical-align: middle;\n",
       "    }\n",
       "\n",
       "    .dataframe tbody tr th {\n",
       "        vertical-align: top;\n",
       "    }\n",
       "\n",
       "    .dataframe thead th {\n",
       "        text-align: right;\n",
       "    }\n",
       "</style>\n",
       "<table border=\"1\" class=\"dataframe\">\n",
       "  <thead>\n",
       "    <tr style=\"text-align: right;\">\n",
       "      <th></th>\n",
       "      <th>gene_ids</th>\n",
       "      <th>n_cells</th>\n",
       "      <th>mean</th>\n",
       "      <th>std</th>\n",
       "      <th>npc</th>\n",
       "      <th>pc_vanilla</th>\n",
       "      <th>graph_vanilla</th>\n",
       "    </tr>\n",
       "  </thead>\n",
       "  <tbody>\n",
       "    <tr>\n",
       "      <th>149</th>\n",
       "      <td>Cps1</td>\n",
       "      <td>624</td>\n",
       "      <td>0.674070</td>\n",
       "      <td>0.844695</td>\n",
       "      <td>624</td>\n",
       "      <td>0.0001</td>\n",
       "      <td>0.0001</td>\n",
       "    </tr>\n",
       "    <tr>\n",
       "      <th>310</th>\n",
       "      <td>Pigr</td>\n",
       "      <td>1284</td>\n",
       "      <td>2.565508</td>\n",
       "      <td>0.998651</td>\n",
       "      <td>1284</td>\n",
       "      <td>0.0001</td>\n",
       "      <td>0.0001</td>\n",
       "    </tr>\n",
       "    <tr>\n",
       "      <th>987</th>\n",
       "      <td>Slc28a2</td>\n",
       "      <td>258</td>\n",
       "      <td>0.406770</td>\n",
       "      <td>0.986160</td>\n",
       "      <td>258</td>\n",
       "      <td>0.0001</td>\n",
       "      <td>0.0001</td>\n",
       "    </tr>\n",
       "    <tr>\n",
       "      <th>1196</th>\n",
       "      <td>Ada</td>\n",
       "      <td>716</td>\n",
       "      <td>1.053582</td>\n",
       "      <td>1.464546</td>\n",
       "      <td>716</td>\n",
       "      <td>0.0001</td>\n",
       "      <td>0.0001</td>\n",
       "    </tr>\n",
       "    <tr>\n",
       "      <th>1583</th>\n",
       "      <td>Slc2a2</td>\n",
       "      <td>650</td>\n",
       "      <td>0.663044</td>\n",
       "      <td>0.774591</td>\n",
       "      <td>650</td>\n",
       "      <td>0.0001</td>\n",
       "      <td>0.0001</td>\n",
       "    </tr>\n",
       "  </tbody>\n",
       "</table>\n",
       "</div>"
      ],
      "text/plain": [
       "     gene_ids  n_cells      mean       std   npc  pc_vanilla  graph_vanilla\n",
       "149      Cps1      624  0.674070  0.844695   624      0.0001         0.0001\n",
       "310      Pigr     1284  2.565508  0.998651  1284      0.0001         0.0001\n",
       "987   Slc28a2      258  0.406770  0.986160   258      0.0001         0.0001\n",
       "1196      Ada      716  1.053582  1.464546   716      0.0001         0.0001\n",
       "1583   Slc2a2      650  0.663044  0.774591   650      0.0001         0.0001"
      ]
     },
     "metadata": {},
     "output_type": "display_data"
    },
    {
     "name": "stderr",
     "output_type": "stream",
     "text": [
      "[feat_viz INFO] Ldb3 only rejected by graph_vanilla\n",
      "[feat_viz INFO] C530008M17Rik only rejected by graph_vanilla\n",
      "[feat_viz INFO] Abcg2 only rejected by graph_vanilla\n",
      "[feat_viz INFO] Lrrc8b only rejected by graph_vanilla\n",
      "[feat_viz INFO] Adck5 only rejected by graph_vanilla\n",
      "[feat_viz INFO] Aoc1 only rejected by graph_vanilla\n",
      "[feat_viz INFO] Ptprh only rejected by graph_vanilla\n",
      "[feat_viz INFO] Sec23a only rejected by graph_vanilla\n"
     ]
    },
    {
     "data": {
      "text/html": [
       "<div>\n",
       "<style scoped>\n",
       "    .dataframe tbody tr th:only-of-type {\n",
       "        vertical-align: middle;\n",
       "    }\n",
       "\n",
       "    .dataframe tbody tr th {\n",
       "        vertical-align: top;\n",
       "    }\n",
       "\n",
       "    .dataframe thead th {\n",
       "        text-align: right;\n",
       "    }\n",
       "</style>\n",
       "<table border=\"1\" class=\"dataframe\">\n",
       "  <thead>\n",
       "    <tr style=\"text-align: right;\">\n",
       "      <th></th>\n",
       "      <th>gene_ids</th>\n",
       "      <th>n_cells</th>\n",
       "      <th>mean</th>\n",
       "      <th>std</th>\n",
       "      <th>npc</th>\n",
       "      <th>pc_vanilla</th>\n",
       "      <th>graph_vanilla</th>\n",
       "    </tr>\n",
       "  </thead>\n",
       "  <tbody>\n",
       "    <tr>\n",
       "      <th>2893</th>\n",
       "      <td>C530008M17Rik</td>\n",
       "      <td>353</td>\n",
       "      <td>0.253854</td>\n",
       "      <td>0.465137</td>\n",
       "      <td>353</td>\n",
       "      <td>0.988101</td>\n",
       "      <td>0.0001</td>\n",
       "    </tr>\n",
       "    <tr>\n",
       "      <th>2966</th>\n",
       "      <td>Lrrc8b</td>\n",
       "      <td>455</td>\n",
       "      <td>0.344271</td>\n",
       "      <td>0.535244</td>\n",
       "      <td>455</td>\n",
       "      <td>0.984702</td>\n",
       "      <td>0.0001</td>\n",
       "    </tr>\n",
       "    <tr>\n",
       "      <th>3424</th>\n",
       "      <td>Aoc1</td>\n",
       "      <td>990</td>\n",
       "      <td>1.016379</td>\n",
       "      <td>0.773854</td>\n",
       "      <td>990</td>\n",
       "      <td>0.971003</td>\n",
       "      <td>0.0001</td>\n",
       "    </tr>\n",
       "    <tr>\n",
       "      <th>3455</th>\n",
       "      <td>Abcg2</td>\n",
       "      <td>612</td>\n",
       "      <td>0.467318</td>\n",
       "      <td>0.585346</td>\n",
       "      <td>612</td>\n",
       "      <td>0.985601</td>\n",
       "      <td>0.0001</td>\n",
       "    </tr>\n",
       "    <tr>\n",
       "      <th>3783</th>\n",
       "      <td>Ptprh</td>\n",
       "      <td>564</td>\n",
       "      <td>0.419681</td>\n",
       "      <td>0.554831</td>\n",
       "      <td>564</td>\n",
       "      <td>0.964304</td>\n",
       "      <td>0.0001</td>\n",
       "    </tr>\n",
       "  </tbody>\n",
       "</table>\n",
       "</div>"
      ],
      "text/plain": [
       "           gene_ids  n_cells      mean       std  npc  pc_vanilla  \\\n",
       "2893  C530008M17Rik      353  0.253854  0.465137  353    0.988101   \n",
       "2966         Lrrc8b      455  0.344271  0.535244  455    0.984702   \n",
       "3424           Aoc1      990  1.016379  0.773854  990    0.971003   \n",
       "3455          Abcg2      612  0.467318  0.585346  612    0.985601   \n",
       "3783          Ptprh      564  0.419681  0.554831  564    0.964304   \n",
       "\n",
       "      graph_vanilla  \n",
       "2893         0.0001  \n",
       "2966         0.0001  \n",
       "3424         0.0001  \n",
       "3455         0.0001  \n",
       "3783         0.0001  "
      ]
     },
     "metadata": {},
     "output_type": "display_data"
    }
   ],
   "source": [
    "def report_gene_info(report_genes):\n",
    "    for gene in report_genes:\n",
    "        if gene in unique_df.index:\n",
    "            gene_info = unique_df.loc[gene]\n",
    "            logger.info(\"{} only rejected by {}\".format(gene, gene_info[\"exclusive_rejection\"]))\n",
    "    display(pval_df[pval_df[\"gene_ids\"].isin(report_genes)].head(5))\n",
    "\n",
    "def plot_gene_expression(genes, horizontal=False):\n",
    "    gene_df = get_gene_df(genes, var_df, mtx)\n",
    "#     report_gene_info(genes)\n",
    "    plot_gene_expr_comp(lam_df, gene_df, methods, select_vars, horizontal=horizontal)\n",
    "    \n",
    "fn = dat_dir + \"/extracted/smFISH_genes.csv\"\n",
    "smFISH_genes = list(pd.read_csv(fn, header=None)[0])\n",
    "logger.info(\"Number of original smFISH genes: {}\".format(len(smFISH_genes)))\n",
    "smFISH_genes = list(set(smFISH_genes).intersection(set(var_df[\"gene_ids\"])))\n",
    "smFISH_genes = sorted(smFISH_genes)\n",
    "logger.info(\"Number of intersecting smFISH genes: {}\".format(len(smFISH_genes)))\n",
    "report_gene_info(smFISH_genes)   \n",
    "\n",
    "graph_top_uniq_genes = unique_glist[\"graph_vanilla\"][:8]\n",
    "report_gene_info(graph_top_uniq_genes)   "
   ]
  },
  {
   "cell_type": "code",
   "execution_count": null,
   "metadata": {},
   "outputs": [],
   "source": []
  }
 ],
 "metadata": {
  "kernelspec": {
   "display_name": "Python 3 (ipykernel)",
   "language": "python",
   "name": "python3"
  },
  "language_info": {
   "codemirror_mode": {
    "name": "ipython",
    "version": 3
   },
   "file_extension": ".py",
   "mimetype": "text/x-python",
   "name": "python",
   "nbconvert_exporter": "python",
   "pygments_lexer": "ipython3",
   "version": "3.8.12"
  }
 },
 "nbformat": 4,
 "nbformat_minor": 2
}
